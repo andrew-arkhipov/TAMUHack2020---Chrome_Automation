{
 "cells": [
  {
   "cell_type": "markdown",
   "metadata": {},
   "source": [
    "# Pioneer\n",
    "##### By: Philip and Andrew"
   ]
  },
  {
   "cell_type": "markdown",
   "metadata": {},
   "source": [
    " "
   ]
  },
  {
   "cell_type": "markdown",
   "metadata": {},
   "source": [
    "Pioneer is a hands-free Chrome navigation app built using the Google Cloud \"Speech to Text\" API. We were inspired by voice assistants such as Alexa and Cortana and saw an opportunity to create a program to help people surf the web without physical interaction. "
   ]
  },
  {
   "cell_type": "markdown",
   "metadata": {},
   "source": [
    "\n"
   ]
  },
  {
   "cell_type": "code",
   "execution_count": 1,
   "metadata": {},
   "outputs": [],
   "source": [
    "import selenium\n",
    "from selenium import webdriver\n",
    "import datetime \n",
    "from datetime import datetime\n",
    "import pyaudio\n",
    "import audioop\n",
    "import speech_recognition as sr\n",
    "path = r'C:\\Users\\Philip\\AppData\\Local\\Programs\\Python\\Python37-32/chromedriver.exe'\n",
    "driver = webdriver.Chrome(path)\n",
    "driver.maximize_window()\n",
    "browser_name_list = []"
   ]
  },
  {
   "cell_type": "markdown",
   "metadata": {},
   "source": [
    "### Functionality:"
   ]
  },
  {
   "cell_type": "markdown",
   "metadata": {},
   "source": [
    "Pioneer can perform many different actions on Google Chrome. "
   ]
  },
  {
   "cell_type": "markdown",
   "metadata": {},
   "source": [
    "They include :"
   ]
  },
  {
   "cell_type": "markdown",
   "metadata": {},
   "source": [
    "- Refreshing\n",
    "- Move forwards/backwards \n",
    "- Scroll up/down\n",
    "- Screenshot current screen\n",
    "- Initialize new tab/delete current tab \n",
    "- Open websites \n",
    "- Search a query "
   ]
  },
  {
   "cell_type": "code",
   "execution_count": 1,
   "metadata": {},
   "outputs": [],
   "source": [
    "class Chrome_Command():\n",
    "    \n",
    "    def __init__(self):\n",
    "        pass\n",
    "    \n",
    "    def refresh(self):\n",
    "        driver.refresh()\n",
    "        \n",
    "    def forward(self):\n",
    "        driver.forward()\n",
    "    \n",
    "    def back(self):\n",
    "        driver.back()\n",
    "        \n",
    "    def scroll_down(self):\n",
    "        driver.execute_script('scrollBy(0,450)')\n",
    "    \n",
    "    def scroll_up(self):\n",
    "        driver.execute_script(('scrollBy(0,-450)'))\n",
    "        \n",
    "    def screenshot(self):\n",
    "        element = driver.find_element_by_tag_name('body')\n",
    "        element_png = element.screenshot_as_png\n",
    "        file_name = 'chrome_screenshot{date}.png'.format(date = str(datetime.now())[0:10])\n",
    "        with open(\"file_name\", \"wb\") as file:\n",
    "            file.write(element_png)\n",
    "            \n",
    "    def new_tab(self):\n",
    "        driver.execute_script('window.open()')\n",
    "        driver.switch_to.window(driver.window_handles[-1])\n",
    "        \n",
    "    def close_tab(self):\n",
    "        driver.execute_script('window.close()')\n",
    "        driver.switch_to.window(driver.window_handles[-1])\n",
    "        \n",
    "    def open_(self, user_input):\n",
    "        if '.' not in user_input:\n",
    "            user_input = user_input + '.com'\n",
    "            driver.get('https://{user_input}'.format(user_input = user_input))\n",
    "        else:\n",
    "            driver.get('https://{user_input}'.format(user_input = user_input))\n",
    "            \n",
    "    def search(self, user_input): \n",
    "        input_all = driver.find_elements_by_xpath('//input')\n",
    "        input_list = [i.get_attribute('class') for i in input_all]\n",
    "        link = [i for i in input_list if len(i) > 2 and 'link' not in i]\n",
    "        driver.find_elements_by_xpath(\"//input[@class = '{}']\".format(link[0]))\n",
    "        input_box = driver.find_element_by_xpath(\"//input[@class = '{}']\".format(link[0]))\n",
    "        input_box.send_keys(user_input)\n",
    "        input_box.submit()\n",
    "        \n",
    "    def find_links(self, link_number, browser_name):\n",
    "        link_all = driver.find_elements_by_xpath('//a')\n",
    "        link_list = [i.get_attribute('href') for i in link_all]\n",
    "        link_list_final = [i for i in link_list if i != None and browser_name not in i and 'javascript:void' not in i]\n",
    "        driver.get(link_list_final[link_number])"
   ]
  },
  {
   "cell_type": "markdown",
   "metadata": {},
   "source": [
    "### Speech to Text Initializer:"
   ]
  },
  {
   "cell_type": "markdown",
   "metadata": {},
   "source": [
    "We have done several things to increase the efficiency of the speech to text initializer. \n",
    "- In order to decrease noise, we tested various threshold levels that determine whether the sound is background noise or actual voice commands. \n",
    "- Furthermore, we optmized the chunk parameters to help the \"Speech to Text\" API separate different commands. Therefore, Pioneer is able to accurately identify different commands and execute respectively rather than executing only the last command. \n",
    "- Lastly, we have implemented a feature that makes sure Pioneer only executes when it detects a specific string. Therefore, the program will not run during random conversations or off-topic/incorrect commands. "
   ]
  },
  {
   "cell_type": "code",
   "execution_count": 1,
   "metadata": {},
   "outputs": [],
   "source": [
    "class Voice():\n",
    "        \n",
    "    def __init__(self):\n",
    "        self.threshold = 1500\n",
    "        self.chunk = 1024\n",
    "        self.fs = 44100\n",
    "        self.sample_format = pyaudio.paInt16\n",
    "\n",
    "    def create_recognizer(self):\n",
    "        return sr.Recognizer()\n",
    "    \n",
    "    def get_mic(self):\n",
    "        return sr.Microphone(device_index = 0)\n",
    "    \n",
    "    def get_text(self):\n",
    "        r = self.create_recognizer()\n",
    "        with self.get_mic() as source:\n",
    "            audio = r.listen(source, timeout = 3)\n",
    "        return r.recognize_google(audio)\n",
    "        \n",
    "    def initialize_recognition(self):\n",
    "        p = pyaudio.PyAudio()\n",
    "        temp = p.open(format = self.sample_format,\n",
    "                    channels = 1,\n",
    "                    rate = 44100,\n",
    "                    input = True,\n",
    "                    frames_per_buffer = 1024)\n",
    "        chunk_count = 0\n",
    "        user_input = []\n",
    "        browser_name_list = []\n",
    "        while True:\n",
    "            stream = temp\n",
    "            data = stream.read(self.chunk, exception_on_overflow = False)\n",
    "            if audioop.rms(data, 2) > self.threshold:\n",
    "                chunk_count += 1\n",
    "            else:\n",
    "                chunk_count = 0\n",
    "            if chunk_count >= 5:\n",
    "                try:\n",
    "                    print('Chrome is listening!')\n",
    "                    text = self.get_text().lower()\n",
    "                    print(text)\n",
    "                    decision_tree(text)\n",
    "                    if 'goodbye' in text:\n",
    "                        break\n",
    "                    else:\n",
    "                        pass\n",
    "                except:\n",
    "                    pass\n",
    "        return user_input"
   ]
  },
  {
   "cell_type": "markdown",
   "metadata": {},
   "source": [
    "### Decision Tree:"
   ]
  },
  {
   "cell_type": "markdown",
   "metadata": {},
   "source": [
    "Our decision tree processes the string returned from the \"Speech to Text\" API. It parses through the characters and determines the action the user wants Pioneer to perform and calls the respective function. "
   ]
  },
  {
   "cell_type": "code",
   "execution_count": 1,
   "metadata": {},
   "outputs": [],
   "source": [
    "def decision_tree(text):\n",
    "    user_command = Chrome_Command()\n",
    "    word_list = ['first', 'second','third','fourth','fifth','sixth','seventh','eigth','ninth','tenth']\n",
    "    number_list = [i for i in range(1,11)]\n",
    "    number_dic = {keys:values for keys, values in zip(word_list, number_list)}\n",
    "    global browser_name_list\n",
    "    \n",
    "    if 'refresh' in text and 'chrome' in text:\n",
    "        user_command.refresh()\n",
    "    if 'forward' in text and 'chrome' in text:\n",
    "        user_command.forward()\n",
    "    if 'back' in text and 'chrome' in text:\n",
    "        user_command.back()\n",
    "    if 'down' in text and 'chrome' in text:\n",
    "        user_command.scroll_down()\n",
    "    if 'up' in text and 'chrome' in text:\n",
    "        user_command.scroll_up()\n",
    "    if 'screenshot' in text and 'chrome' in text:\n",
    "        user_command.screenshot()\n",
    "    if 'new tab' in text and 'chrome' in text:\n",
    "        user_command.new_tab()\n",
    "    if 'close tab' in text and 'chrome' in text:\n",
    "        user_command.close_tab()\n",
    "    if 'open' in text and 'chrome' in text:\n",
    "        browser_name = text.split(' ')[-1]\n",
    "        browser_name_list.append(browser_name)\n",
    "        user_command.open_(browser_name)\n",
    "    if 'search' in text or 'look up' in text and 'chrome' in text:\n",
    "        split_text = text.split(\" \")\n",
    "        text_dic = {key:value for value, key in enumerate(split_text)}\n",
    "        for keys in text_dic:\n",
    "            if 'search for' in text and 'chrome' in text:\n",
    "                temp_index = text_dic['for']\n",
    "                temp_value = \" \".join(split_text[temp_index + 1:])\n",
    "            if 'for' not in text and 'search' in text and 'chrome' in text:\n",
    "                temp_index = text_dic['search']\n",
    "                temp_value = \" \".join(split_text[temp_index + 1:])\n",
    "            if 'look up' in text and 'chrome' in text:\n",
    "                temp_index = text_dic['up']\n",
    "                temp_value = \" \".join(split_text[temp_index + 1:])\n",
    "        user_command.search(temp_value)\n",
    "    for i in word_list:\n",
    "        if i in text and 'chrome' in text and 'link' in text:\n",
    "            user_command.find_links(number_dic[i], browser_name_list[-1])    "
   ]
  },
  {
   "cell_type": "code",
   "execution_count": 1,
   "metadata": {},
   "outputs": [],
   "source": [
    "command = Voice()\n",
    "command.initialize_recognition()"
   ]
  }
 ],
 "metadata": {
  "kernelspec": {
   "display_name": "Python 3",
   "language": "python",
   "name": "python3"
  },
  "language_info": {
   "codemirror_mode": {
    "name": "ipython",
    "version": 3
   },
   "file_extension": ".py",
   "mimetype": "text/x-python",
   "name": "python",
   "nbconvert_exporter": "python",
   "pygments_lexer": "ipython3",
   "version": "3.7.4"
  }
 },
 "nbformat": 4,
 "nbformat_minor": 4
}
